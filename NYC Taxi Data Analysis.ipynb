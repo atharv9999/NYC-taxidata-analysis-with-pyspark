{
 "cells": [
  {
   "cell_type": "code",
   "execution_count": 0,
   "metadata": {
    "application/vnd.databricks.v1+cell": {
     "cellMetadata": {
      "byteLimit": 2048000,
      "rowLimit": 10000
     },
     "inputWidgets": {},
     "nuid": "c313d69e-0bb5-41ad-904f-e189c60e86bb",
     "showTitle": false,
     "tableResultSettingsMap": {},
     "title": ""
    }
   },
   "outputs": [],
   "source": [
    "df_jan = spark.read.parquet(\"dbfs:/FileStore/tables/yellow_tripdata_2025_01.parquet\")\n",
    "df_feb = spark.read.parquet(\"dbfs:/FileStore/tables/yellow_tripdata_2025_02.parquet\")\n"
   ]
  },
  {
   "cell_type": "code",
   "execution_count": 0,
   "metadata": {
    "application/vnd.databricks.v1+cell": {
     "cellMetadata": {
      "byteLimit": 2048000,
      "rowLimit": 10000
     },
     "inputWidgets": {},
     "nuid": "e8bffb42-c495-47de-b641-5a363a522a6b",
     "showTitle": false,
     "tableResultSettingsMap": {},
     "title": ""
    }
   },
   "outputs": [
    {
     "output_type": "stream",
     "name": "stdout",
     "output_type": "stream",
     "text": [
      "root\n |-- VendorID: integer (nullable = true)\n |-- tpep_pickup_datetime: timestamp_ntz (nullable = true)\n |-- tpep_dropoff_datetime: timestamp_ntz (nullable = true)\n |-- passenger_count: long (nullable = true)\n |-- trip_distance: double (nullable = true)\n |-- RatecodeID: long (nullable = true)\n |-- store_and_fwd_flag: string (nullable = true)\n |-- PULocationID: integer (nullable = true)\n |-- DOLocationID: integer (nullable = true)\n |-- payment_type: long (nullable = true)\n |-- fare_amount: double (nullable = true)\n |-- extra: double (nullable = true)\n |-- mta_tax: double (nullable = true)\n |-- tip_amount: double (nullable = true)\n |-- tolls_amount: double (nullable = true)\n |-- improvement_surcharge: double (nullable = true)\n |-- total_amount: double (nullable = true)\n |-- congestion_surcharge: double (nullable = true)\n |-- Airport_fee: double (nullable = true)\n |-- cbd_congestion_fee: double (nullable = true)\n\nroot\n |-- VendorID: integer (nullable = true)\n |-- tpep_pickup_datetime: timestamp_ntz (nullable = true)\n |-- tpep_dropoff_datetime: timestamp_ntz (nullable = true)\n |-- passenger_count: long (nullable = true)\n |-- trip_distance: double (nullable = true)\n |-- RatecodeID: long (nullable = true)\n |-- store_and_fwd_flag: string (nullable = true)\n |-- PULocationID: integer (nullable = true)\n |-- DOLocationID: integer (nullable = true)\n |-- payment_type: long (nullable = true)\n |-- fare_amount: double (nullable = true)\n |-- extra: double (nullable = true)\n |-- mta_tax: double (nullable = true)\n |-- tip_amount: double (nullable = true)\n |-- tolls_amount: double (nullable = true)\n |-- improvement_surcharge: double (nullable = true)\n |-- total_amount: double (nullable = true)\n |-- congestion_surcharge: double (nullable = true)\n |-- Airport_fee: double (nullable = true)\n |-- cbd_congestion_fee: double (nullable = true)\n\n"
     ]
    }
   ],
   "source": [
    "df_jan.printSchema()\n",
    "df_feb.printSchema()"
   ]
  },
  {
   "cell_type": "code",
   "execution_count": 0,
   "metadata": {
    "application/vnd.databricks.v1+cell": {
     "cellMetadata": {
      "byteLimit": 2048000,
      "rowLimit": 10000
     },
     "inputWidgets": {},
     "nuid": "31b7bee7-efe9-4f49-ba83-6c6d77ba2a79",
     "showTitle": false,
     "tableResultSettingsMap": {},
     "title": ""
    }
   },
   "outputs": [
    {
     "output_type": "display_data",
     "data": {
      "text/plain": [
       "3475226"
      ]
     },
     "metadata": {},
     "output_type": "display_data"
    },
    {
     "output_type": "display_data",
     "data": {
      "text/plain": [
       "3577543"
      ]
     },
     "metadata": {},
     "output_type": "display_data"
    }
   ],
   "source": [
    "display(df_jan.count())\n",
    "display(df_feb.count())"
   ]
  },
  {
   "cell_type": "code",
   "execution_count": 0,
   "metadata": {
    "application/vnd.databricks.v1+cell": {
     "cellMetadata": {
      "byteLimit": 2048000,
      "rowLimit": 10000
     },
     "inputWidgets": {},
     "nuid": "697bfdc6-3e16-4ca6-95b1-f73c00be49f9",
     "showTitle": false,
     "tableResultSettingsMap": {},
     "title": ""
    }
   },
   "outputs": [
    {
     "output_type": "stream",
     "name": "stdout",
     "output_type": "stream",
     "text": [
      "+--------+--------------------+---------------------+---------------+-------------+----------+------------------+------------+------------+------------+-----------+-----+-------+----------+------------+---------------------+------------+--------------------+-----------+------------------+\n|VendorID|tpep_pickup_datetime|tpep_dropoff_datetime|passenger_count|trip_distance|RatecodeID|store_and_fwd_flag|PULocationID|DOLocationID|payment_type|fare_amount|extra|mta_tax|tip_amount|tolls_amount|improvement_surcharge|total_amount|congestion_surcharge|Airport_fee|cbd_congestion_fee|\n+--------+--------------------+---------------------+---------------+-------------+----------+------------------+------------+------------+------------+-----------+-----+-------+----------+------------+---------------------+------------+--------------------+-----------+------------------+\n|       1| 2025-01-01 00:18:38|  2025-01-01 00:26:59|              1|          1.6|         1|                 N|         229|         237|           1|       10.0|  3.5|    0.5|       3.0|         0.0|                  1.0|        18.0|                 2.5|        0.0|               0.0|\n|       1| 2025-01-01 00:32:40|  2025-01-01 00:35:13|              1|          0.5|         1|                 N|         236|         237|           1|        5.1|  3.5|    0.5|      2.02|         0.0|                  1.0|       12.12|                 2.5|        0.0|               0.0|\n|       1| 2025-01-01 00:44:04|  2025-01-01 00:46:01|              1|          0.6|         1|                 N|         141|         141|           1|        5.1|  3.5|    0.5|       2.0|         0.0|                  1.0|        12.1|                 2.5|        0.0|               0.0|\n|       2| 2025-01-01 00:14:27|  2025-01-01 00:20:01|              3|         0.52|         1|                 N|         244|         244|           2|        7.2|  1.0|    0.5|       0.0|         0.0|                  1.0|         9.7|                 0.0|        0.0|               0.0|\n|       2| 2025-01-01 00:21:34|  2025-01-01 00:25:06|              3|         0.66|         1|                 N|         244|         116|           2|        5.8|  1.0|    0.5|       0.0|         0.0|                  1.0|         8.3|                 0.0|        0.0|               0.0|\n+--------+--------------------+---------------------+---------------+-------------+----------+------------------+------------+------------+------------+-----------+-----+-------+----------+------------+---------------------+------------+--------------------+-----------+------------------+\nonly showing top 5 rows\n+--------+--------------------+---------------------+---------------+-------------+----------+------------------+------------+------------+------------+-----------+-----+-------+----------+------------+---------------------+------------+--------------------+-----------+------------------+\n|VendorID|tpep_pickup_datetime|tpep_dropoff_datetime|passenger_count|trip_distance|RatecodeID|store_and_fwd_flag|PULocationID|DOLocationID|payment_type|fare_amount|extra|mta_tax|tip_amount|tolls_amount|improvement_surcharge|total_amount|congestion_surcharge|Airport_fee|cbd_congestion_fee|\n+--------+--------------------+---------------------+---------------+-------------+----------+------------------+------------+------------+------------+-----------+-----+-------+----------+------------+---------------------+------------+--------------------+-----------+------------------+\n|       2| 2025-02-01 00:12:18|  2025-02-01 00:32:33|              3|         3.12|         1|                 N|         246|          79|           1|       19.8|  1.0|    0.5|      5.11|         0.0|                  1.0|       30.66|                 2.5|        0.0|              0.75|\n|       2| 2025-02-01 00:40:04|  2025-02-01 00:49:15|              1|          1.4|         1|                 N|         114|          79|           1|       10.0|  1.0|    0.5|      3.15|         0.0|                  1.0|        18.9|                 2.5|        0.0|              0.75|\n|       1| 2025-02-01 00:06:09|  2025-02-01 00:11:51|              0|          0.4|         1|                 N|         211|         144|           1|        6.5| 4.25|    0.5|       1.0|         0.0|                  1.0|       13.25|                 2.5|        0.0|              0.75|\n|       1| 2025-02-01 00:15:13|  2025-02-01 00:20:19|              0|          0.7|         1|                 N|         113|         249|           1|        7.2| 4.25|    0.5|       2.0|         0.0|                  1.0|       14.95|                 2.5|        0.0|              0.75|\n|       2| 2025-02-01 00:02:52|  2025-02-01 00:20:25|              1|         4.19|         1|                 N|         113|         263|           1|       19.8|  1.0|    0.5|      5.11|         0.0|                  1.0|       30.66|                 2.5|        0.0|              0.75|\n+--------+--------------------+---------------------+---------------+-------------+----------+------------------+------------+------------+------------+-----------+-----+-------+----------+------------+---------------------+------------+--------------------+-----------+------------------+\nonly showing top 5 rows\n"
     ]
    }
   ],
   "source": [
    "df_jan.show(5)\n",
    "df_feb.show(5)"
   ]
  },
  {
   "cell_type": "code",
   "execution_count": 0,
   "metadata": {
    "application/vnd.databricks.v1+cell": {
     "cellMetadata": {
      "byteLimit": 2048000,
      "rowLimit": 10000
     },
     "inputWidgets": {},
     "nuid": "83576175-6fff-412b-9ba8-79c759c570f7",
     "showTitle": false,
     "tableResultSettingsMap": {},
     "title": ""
    }
   },
   "outputs": [],
   "source": [
    "df = df_jan.unionByName(df_feb)"
   ]
  },
  {
   "cell_type": "code",
   "execution_count": 0,
   "metadata": {
    "application/vnd.databricks.v1+cell": {
     "cellMetadata": {
      "byteLimit": 2048000,
      "rowLimit": 10000
     },
     "inputWidgets": {},
     "nuid": "9aa4e88d-b1e1-4685-9020-b47468c2dca1",
     "showTitle": false,
     "tableResultSettingsMap": {},
     "title": ""
    }
   },
   "outputs": [
    {
     "output_type": "stream",
     "name": "stdout",
     "output_type": "stream",
     "text": [
      "+--------+--------------------+---------------------+---------------+-------------+----------+------------------+------------+------------+------------+-----------+-----+-------+----------+------------+---------------------+------------+--------------------+-----------+------------------+\n|VendorID|tpep_pickup_datetime|tpep_dropoff_datetime|passenger_count|trip_distance|RatecodeID|store_and_fwd_flag|PULocationID|DOLocationID|payment_type|fare_amount|extra|mta_tax|tip_amount|tolls_amount|improvement_surcharge|total_amount|congestion_surcharge|Airport_fee|cbd_congestion_fee|\n+--------+--------------------+---------------------+---------------+-------------+----------+------------------+------------+------------+------------+-----------+-----+-------+----------+------------+---------------------+------------+--------------------+-----------+------------------+\n|       1| 2025-01-01 00:18:38|  2025-01-01 00:26:59|              1|          1.6|         1|                 N|         229|         237|           1|       10.0|  3.5|    0.5|       3.0|         0.0|                  1.0|        18.0|                 2.5|        0.0|               0.0|\n|       1| 2025-01-01 00:32:40|  2025-01-01 00:35:13|              1|          0.5|         1|                 N|         236|         237|           1|        5.1|  3.5|    0.5|      2.02|         0.0|                  1.0|       12.12|                 2.5|        0.0|               0.0|\n|       1| 2025-01-01 00:44:04|  2025-01-01 00:46:01|              1|          0.6|         1|                 N|         141|         141|           1|        5.1|  3.5|    0.5|       2.0|         0.0|                  1.0|        12.1|                 2.5|        0.0|               0.0|\n|       2| 2025-01-01 00:14:27|  2025-01-01 00:20:01|              3|         0.52|         1|                 N|         244|         244|           2|        7.2|  1.0|    0.5|       0.0|         0.0|                  1.0|         9.7|                 0.0|        0.0|               0.0|\n|       2| 2025-01-01 00:21:34|  2025-01-01 00:25:06|              3|         0.66|         1|                 N|         244|         116|           2|        5.8|  1.0|    0.5|       0.0|         0.0|                  1.0|         8.3|                 0.0|        0.0|               0.0|\n+--------+--------------------+---------------------+---------------+-------------+----------+------------------+------------+------------+------------+-----------+-----+-------+----------+------------+---------------------+------------+--------------------+-----------+------------------+\nonly showing top 5 rows\n"
     ]
    }
   ],
   "source": [
    "df.show(5)"
   ]
  },
  {
   "cell_type": "code",
   "execution_count": 0,
   "metadata": {
    "application/vnd.databricks.v1+cell": {
     "cellMetadata": {
      "byteLimit": 2048000,
      "rowLimit": 10000
     },
     "inputWidgets": {},
     "nuid": "d55e76e3-60d7-4b18-95ff-98e07cefe390",
     "showTitle": false,
     "tableResultSettingsMap": {},
     "title": ""
    }
   },
   "outputs": [
    {
     "output_type": "execute_result",
     "data": {
      "text/plain": [
       "7052769"
      ]
     },
     "execution_count": 7,
     "metadata": {},
     "output_type": "execute_result"
    }
   ],
   "source": [
    "df.count()"
   ]
  },
  {
   "cell_type": "code",
   "execution_count": 0,
   "metadata": {
    "application/vnd.databricks.v1+cell": {
     "cellMetadata": {
      "byteLimit": 2048000,
      "rowLimit": 10000
     },
     "inputWidgets": {},
     "nuid": "fac1ec14-d6a5-40d2-9f7c-995dcde70d41",
     "showTitle": false,
     "tableResultSettingsMap": {},
     "title": ""
    }
   },
   "outputs": [],
   "source": [
    "from pyspark.sql.functions import col, avg, count, to_date, sum, window, max"
   ]
  },
  {
   "cell_type": "markdown",
   "metadata": {
    "application/vnd.databricks.v1+cell": {
     "cellMetadata": {
      "byteLimit": 2048000,
      "rowLimit": 10000
     },
     "inputWidgets": {},
     "nuid": "a1ffbe8f-bda6-4ef9-958f-8ee723b9f178",
     "showTitle": false,
     "tableResultSettingsMap": {},
     "title": ""
    }
   },
   "source": [
    "### Add Revenue Column"
   ]
  },
  {
   "cell_type": "code",
   "execution_count": 0,
   "metadata": {
    "application/vnd.databricks.v1+cell": {
     "cellMetadata": {
      "byteLimit": 2048000,
      "rowLimit": 10000
     },
     "inputWidgets": {},
     "nuid": "57600ff3-894c-4eb8-bdd3-d3dd0caef932",
     "showTitle": false,
     "tableResultSettingsMap": {},
     "title": ""
    }
   },
   "outputs": [],
   "source": [
    "df = df.withColumn(\"Revenue\", col(\"fare_amount\") + col(\"extra\") + col(\"mta_tax\") + col(\"improvement_surcharge\") + col(\"tip_amount\") + col(\"tolls_amount\") + col(\"total_amount\"))"
   ]
  },
  {
   "cell_type": "markdown",
   "metadata": {
    "application/vnd.databricks.v1+cell": {
     "cellMetadata": {
      "byteLimit": 2048000,
      "rowLimit": 10000
     },
     "inputWidgets": {},
     "nuid": "ae5b203a-a6e8-42c0-9181-f0eb0cdac729",
     "showTitle": false,
     "tableResultSettingsMap": {},
     "title": ""
    }
   },
   "source": [
    "### Total Passengers by Area"
   ]
  },
  {
   "cell_type": "code",
   "execution_count": 0,
   "metadata": {
    "application/vnd.databricks.v1+cell": {
     "cellMetadata": {
      "byteLimit": 2048000,
      "rowLimit": 10000
     },
     "inputWidgets": {},
     "nuid": "f42cf2cc-f609-4d46-a0ac-7d17816b917c",
     "showTitle": false,
     "tableResultSettingsMap": {},
     "title": ""
    }
   },
   "outputs": [
    {
     "output_type": "stream",
     "name": "stdout",
     "output_type": "stream",
     "text": [
      "+------------+--------------------+\n|PULocationID|sum(passenger_count)|\n+------------+--------------------+\n|         148|               78356|\n|         243|                1063|\n|          31|                  24|\n|         137|               74978|\n|          85|                 624|\n|         251|                   3|\n|          65|                3112|\n|         255|                1865|\n|          53|                 202|\n|         133|                 393|\n|          78|                 397|\n|         155|                 646|\n|         108|                 341|\n|         211|               60579|\n|          34|                 122|\n|         193|                3095|\n|         101|                 115|\n|         126|                 194|\n|         115|                   8|\n|          81|                 266|\n+------------+--------------------+\nonly showing top 20 rows\n"
     ]
    }
   ],
   "source": [
    "df.groupBy(\"PULocationID\").sum(\"passenger_count\").show()"
   ]
  },
  {
   "cell_type": "markdown",
   "metadata": {
    "application/vnd.databricks.v1+cell": {
     "cellMetadata": {
      "byteLimit": 2048000,
      "rowLimit": 10000
     },
     "inputWidgets": {},
     "nuid": "0c0c10aa-bba6-439a-b1b3-ce01dab7ae1a",
     "showTitle": false,
     "tableResultSettingsMap": {},
     "title": ""
    }
   },
   "source": [
    "### Real-time Avg Fare / Total Amount by Vendor"
   ]
  },
  {
   "cell_type": "code",
   "execution_count": 0,
   "metadata": {
    "application/vnd.databricks.v1+cell": {
     "cellMetadata": {
      "byteLimit": 2048000,
      "rowLimit": 10000
     },
     "inputWidgets": {},
     "nuid": "6a9d7e9c-87e5-448c-a774-6714ac8363cc",
     "showTitle": false,
     "tableResultSettingsMap": {},
     "title": ""
    }
   },
   "outputs": [
    {
     "output_type": "stream",
     "name": "stdout",
     "output_type": "stream",
     "text": [
      "+--------+------------------+------------------+\n|VendorID|          avg_fare| avg_total_earning|\n+--------+------------------+------------------+\n|       1| 17.95817555434934|26.257572032419343|\n|       6| 2.972588522588525| 30.02638583638582|\n|       7|14.008691788126564| 22.76513686455739|\n|       2| 16.63325596916356| 25.06227858034035|\n+--------+------------------+------------------+\n\n"
     ]
    }
   ],
   "source": [
    "df.groupBy(\"VendorID\").agg(avg(\"fare_amount\").alias(\"avg_fare\"), avg(\"total_amount\").alias(\"avg_total_earning\")).show()"
   ]
  },
  {
   "cell_type": "markdown",
   "metadata": {
    "application/vnd.databricks.v1+cell": {
     "cellMetadata": {
      "byteLimit": 2048000,
      "rowLimit": 10000
     },
     "inputWidgets": {},
     "nuid": "bc942789-9815-4763-98a0-5b0aed4f89a1",
     "showTitle": false,
     "tableResultSettingsMap": {},
     "title": ""
    }
   },
   "source": [
    "### Moving Count of Payments by Mode"
   ]
  },
  {
   "cell_type": "code",
   "execution_count": 0,
   "metadata": {
    "application/vnd.databricks.v1+cell": {
     "cellMetadata": {
      "byteLimit": 2048000,
      "rowLimit": 10000
     },
     "inputWidgets": {},
     "nuid": "f53db064-7d2e-4b31-ba2d-f6b231ddf408",
     "showTitle": false,
     "tableResultSettingsMap": {},
     "title": ""
    }
   },
   "outputs": [
    {
     "output_type": "stream",
     "name": "stdout",
     "output_type": "stream",
     "text": [
      "+--------+--------------------+---------------------+---------------+-------------+----------+------------------+------------+------------+------------+-----------+-----+-------+----------+------------+---------------------+------------+--------------------+-----------+------------------+-------------------+--------------------+\n|VendorID|tpep_pickup_datetime|tpep_dropoff_datetime|passenger_count|trip_distance|RatecodeID|store_and_fwd_flag|PULocationID|DOLocationID|payment_type|fare_amount|extra|mta_tax|tip_amount|tolls_amount|improvement_surcharge|total_amount|congestion_surcharge|Airport_fee|cbd_congestion_fee|            Revenue|moving_payment_count|\n+--------+--------------------+---------------------+---------------+-------------+----------+------------------+------------+------------+------------+-----------+-----+-------+----------+------------+---------------------+------------+--------------------+-----------+------------------+-------------------+--------------------+\n|       2| 2025-01-01 00:00:00|  2025-01-01 00:00:00|           NULL|          0.0|      NULL|              NULL|         226|         226|           0|       -5.1|  0.0|    0.5|       0.0|         0.0|                  1.0|        -3.6|                NULL|       NULL|               0.0| -7.199999999999999|                   1|\n|       2| 2025-01-01 00:03:52|  2025-01-01 00:20:16|           NULL|         1.43|      NULL|              NULL|          50|          68|           0|      -1.33|  0.0|    0.5|       0.0|         0.0|                  1.0|        4.89|                NULL|       NULL|               0.0|               5.06|                   2|\n|       1| 2025-01-01 00:04:35|  2025-01-01 00:26:20|           NULL|          3.2|      NULL|              NULL|          90|         236|           0|      20.07|  0.0|    0.5|       0.0|         0.0|                  1.0|       24.07|                NULL|       NULL|               0.0|              45.64|                   3|\n|       1| 2025-01-01 00:04:37|  2025-01-01 00:18:18|           NULL|          2.7|      NULL|              NULL|         164|         232|           0|      16.46|  0.0|    0.5|       0.0|         0.0|                  1.0|       20.46|                NULL|       NULL|               0.0|              38.42|                   4|\n|       1| 2025-01-01 00:04:45|  2025-01-01 00:42:48|           NULL|          4.0|      NULL|              NULL|         236|         113|           0|      23.79|  0.0|    0.5|       0.0|         0.0|                  1.0|       27.79|                NULL|       NULL|               0.0|              53.08|                   5|\n|       2| 2025-01-01 00:04:51|  2025-01-01 00:13:08|           NULL|         1.61|      NULL|              NULL|         236|         140|           0|      -8.22|  0.0|    0.5|       0.0|         0.0|                  1.0|       -4.22|                NULL|       NULL|               0.0|-10.940000000000001|                   6|\n|       2| 2025-01-01 00:05:18|  2025-01-01 00:06:26|           NULL|         0.05|      NULL|              NULL|         164|         164|           0|      18.35|  0.0|    0.5|       0.0|         0.0|                  1.0|       22.35|                NULL|       NULL|               0.0|               42.2|                   7|\n|       2| 2025-01-01 00:05:43|  2025-01-01 00:21:34|           NULL|          2.8|      NULL|              NULL|         263|          41|           0|      24.77|  0.0|    0.5|      5.75|         0.0|                  1.0|       34.52|                NULL|       NULL|               0.0|  66.53999999999999|                   8|\n|       2| 2025-01-01 00:05:44|  2025-01-01 00:27:52|           NULL|        11.48|      NULL|              NULL|         163|         265|           0|       62.3|  0.0|    0.0|      12.0|       13.38|                  1.0|       88.68|                NULL|       NULL|               0.0|             177.36|                   9|\n|       2| 2025-01-01 00:05:49|  2025-01-01 00:41:28|           NULL|        18.23|      NULL|              NULL|          56|          21|           0|      -9.98|  0.0|    0.5|       0.0|         0.0|                  1.0|       -8.48|                NULL|       NULL|               0.0|             -16.96|                  10|\n|       2| 2025-01-01 00:06:08|  2025-01-01 00:21:41|           NULL|         1.89|      NULL|              NULL|         114|         170|           0|      17.23|  0.0|    0.5|       2.0|         0.0|                  1.0|       23.23|                NULL|       NULL|               0.0|              43.96|                  11|\n|       2| 2025-01-01 00:06:30|  2025-01-01 00:24:37|           NULL|         6.41|      NULL|              NULL|         137|          97|           0|      31.83|  0.0|    0.5|      5.81|         0.0|                  1.0|       41.64|                NULL|       NULL|               0.0|              80.78|                  11|\n|       1| 2025-01-01 00:06:44|  2025-01-01 00:31:29|           NULL|          2.0|      NULL|              NULL|         246|         224|           0|      22.75|  0.0|    0.5|       0.0|         0.0|                  1.0|       26.75|                NULL|       NULL|               0.0|               51.0|                  11|\n|       1| 2025-01-01 00:06:54|  2025-01-01 00:26:01|           NULL|          2.4|      NULL|              NULL|         114|         162|           0|      15.47|  0.0|    0.5|       0.0|         0.0|                  1.0|       19.47|                NULL|       NULL|               0.0|              36.44|                  11|\n|       2| 2025-01-01 00:07:00|  2025-01-01 00:30:00|           NULL|         6.63|      NULL|              NULL|         163|         211|           0|       2.87|  0.0|    0.5|       0.0|         0.0|                  1.0|        6.87|                NULL|       NULL|               0.0|              11.24|                  11|\n|       2| 2025-01-01 00:07:06|  2025-01-01 00:16:48|           NULL|         1.16|      NULL|              NULL|         114|          90|           0|      -6.26|  0.0|    0.5|       0.0|         0.0|                  1.0|       17.74|                NULL|       NULL|               0.0| 12.979999999999999|                  11|\n|       2| 2025-01-01 00:08:37|  2025-01-01 00:33:31|           NULL|         2.47|      NULL|              NULL|         148|         186|           0|       2.89|  0.0|    0.5|       0.0|         0.0|                  1.0|        6.89|                NULL|       NULL|               0.0| 11.280000000000001|                  11|\n|       2| 2025-01-01 00:09:00|  2025-01-01 00:20:20|           NULL|         4.85|      NULL|              NULL|         263|           4|           0|      23.47|  0.0|    0.5|      5.49|         0.0|                  1.0|       32.96|                NULL|       NULL|               0.0|              63.42|                  11|\n|       1| 2025-01-01 00:09:20|  2025-01-01 00:19:13|           NULL|          1.1|      NULL|              NULL|         113|         107|           0|       9.01|  0.0|    0.5|       0.0|         0.0|                  1.0|       13.01|                NULL|       NULL|               0.0|              23.52|                  11|\n|       1| 2025-01-01 00:09:32|  2025-01-01 00:12:38|           NULL|          0.0|      NULL|              NULL|         158|         158|           0|      22.72|  0.0|    0.5|       0.0|         0.0|                  1.0|       26.72|                NULL|       NULL|               0.0|              50.94|                  11|\n+--------+--------------------+---------------------+---------------+-------------+----------+------------------+------------+------------+------------+-----------+-----+-------+----------+------------+---------------------+------------+--------------------+-----------+------------------+-------------------+--------------------+\nonly showing top 20 rows\n"
     ]
    }
   ],
   "source": [
    "from pyspark.sql.window import Window\n",
    "\n",
    "window_spec = Window.partitionBy(\"payment_type\").orderBy(\"tpep_pickup_datetime\").rowsBetween(-10, 0)\n",
    "df.withColumn(\"moving_payment_count\", count(\"payment_type\").over(window_spec)).show()"
   ]
  },
  {
   "cell_type": "markdown",
   "metadata": {
    "application/vnd.databricks.v1+cell": {
     "cellMetadata": {
      "byteLimit": 2048000,
      "rowLimit": 10000
     },
     "inputWidgets": {},
     "nuid": "34ec2357-8715-4712-b75f-fdf8bb9de0df",
     "showTitle": false,
     "tableResultSettingsMap": {},
     "title": ""
    }
   },
   "source": [
    "### Top 2 Vendors by Revenue on a Given Date"
   ]
  },
  {
   "cell_type": "code",
   "execution_count": 0,
   "metadata": {
    "application/vnd.databricks.v1+cell": {
     "cellMetadata": {
      "byteLimit": 2048000,
      "rowLimit": 10000
     },
     "inputWidgets": {},
     "nuid": "361b51e6-02ee-4a4e-95ee-fd9a1a322075",
     "showTitle": false,
     "tableResultSettingsMap": {},
     "title": ""
    }
   },
   "outputs": [
    {
     "output_type": "stream",
     "name": "stdout",
     "output_type": "stream",
     "text": [
      "+----------+--------+-----------------+---------------+------------------+\n|      date|VendorID|    total_revenue|total_passenger|    total_distance|\n+----------+--------+-----------------+---------------+------------------+\n|2025-02-14|       2| 5936830.82999978|         112270| 839522.6200000233|\n|2025-02-28|       2|5676362.939999949|         113845|1100449.3199999998|\n+----------+--------+-----------------+---------------+------------------+\nonly showing top 2 rows\n"
     ]
    }
   ],
   "source": [
    "date_filtered = df.withColumn(\"date\", to_date(\"tpep_pickup_datetime\"))\n",
    "(date_filtered.groupBy(\"date\", \"VendorID\")\n",
    "    .agg(\n",
    "        sum(\"Revenue\").alias(\"total_revenue\"),\n",
    "        sum(\"passenger_count\").alias(\"total_passenger\"),\n",
    "        sum(\"trip_distance\").alias(\"total_distance\")\n",
    "    )\n",
    "    .orderBy(\"total_revenue\", ascending=False)\n",
    "    .show(2)\n",
    ")"
   ]
  },
  {
   "cell_type": "markdown",
   "metadata": {
    "application/vnd.databricks.v1+cell": {
     "cellMetadata": {
      "byteLimit": 2048000,
      "rowLimit": 10000
     },
     "inputWidgets": {},
     "nuid": "86da304c-2d01-4472-a183-6b9a141c2f3e",
     "showTitle": false,
     "tableResultSettingsMap": {},
     "title": ""
    }
   },
   "source": [
    "### Most Passengers Between Two Locations"
   ]
  },
  {
   "cell_type": "code",
   "execution_count": 0,
   "metadata": {
    "application/vnd.databricks.v1+cell": {
     "cellMetadata": {
      "byteLimit": 2048000,
      "rowLimit": 10000
     },
     "inputWidgets": {},
     "nuid": "9f3a1e3d-43fa-4fe4-adb4-c70419ef1dcb",
     "showTitle": false,
     "tableResultSettingsMap": {},
     "title": ""
    }
   },
   "outputs": [
    {
     "output_type": "stream",
     "name": "stdout",
     "output_type": "stream",
     "text": [
      "+------------+------------+--------------------+\n|PULocationID|DOLocationID|sum(passenger_count)|\n+------------+------------+--------------------+\n|         237|         236|               57465|\n+------------+------------+--------------------+\nonly showing top 1 row\n"
     ]
    }
   ],
   "source": [
    "df.groupBy(\"PULocationID\", \"DOLocationID\").sum(\"passenger_count\").orderBy(\"sum(passenger_count)\", ascending=False).show(1)"
   ]
  },
  {
   "cell_type": "markdown",
   "metadata": {
    "application/vnd.databricks.v1+cell": {
     "cellMetadata": {
      "byteLimit": 2048000,
      "rowLimit": 10000
     },
     "inputWidgets": {},
     "nuid": "62e99a35-c382-40b9-ba5c-a5cb02ebe922",
     "showTitle": false,
     "tableResultSettingsMap": {},
     "title": ""
    }
   },
   "source": [
    "### Top Pickup Locations in Last Day"
   ]
  },
  {
   "cell_type": "code",
   "execution_count": 0,
   "metadata": {
    "application/vnd.databricks.v1+cell": {
     "cellMetadata": {
      "byteLimit": 2048000,
      "rowLimit": 10000
     },
     "inputWidgets": {},
     "nuid": "1fd1c840-8cb7-4576-9eb2-a0a7d45ae8a7",
     "showTitle": false,
     "tableResultSettingsMap": {},
     "title": ""
    }
   },
   "outputs": [],
   "source": [
    "max_timestamp = df.select(max(\"tpep_pickup_datetime\")).first()[0]"
   ]
  },
  {
   "cell_type": "code",
   "execution_count": 0,
   "metadata": {
    "application/vnd.databricks.v1+cell": {
     "cellMetadata": {
      "byteLimit": 2048000,
      "rowLimit": 10000
     },
     "inputWidgets": {},
     "nuid": "e87178b7-3c89-41ca-b071-e8e710379a09",
     "showTitle": false,
     "tableResultSettingsMap": {},
     "title": ""
    }
   },
   "outputs": [],
   "source": [
    "from pyspark.sql.types import TimestampType\n",
    "from datetime import timedelta\n",
    "cutoff_timestamp = max_timestamp - timedelta(days=1)\n",
    "last_day_df = df.filter(col(\"tpep_pickup_datetime\") >= cutoff_timestamp)"
   ]
  },
  {
   "cell_type": "code",
   "execution_count": 0,
   "metadata": {
    "application/vnd.databricks.v1+cell": {
     "cellMetadata": {
      "byteLimit": 2048000,
      "rowLimit": 10000
     },
     "inputWidgets": {},
     "nuid": "f3ec6d98-f576-4dc5-a3f1-3b9898ce2c56",
     "showTitle": false,
     "tableResultSettingsMap": {},
     "title": ""
    }
   },
   "outputs": [
    {
     "output_type": "stream",
     "name": "stdout",
     "output_type": "stream",
     "text": [
      "+------------+--------------------+\n|PULocationID|sum(passenger_count)|\n+------------+--------------------+\n|         132|                7098|\n|         237|                7033|\n|         236|                6858|\n|         161|                6530|\n|         186|                5390|\n|         230|                5174|\n|         138|                4908|\n|         162|                4708|\n|         142|                4443|\n|         163|                4157|\n|         234|                4023|\n|          68|                3947|\n|         170|                3898|\n|          48|                3768|\n|         239|                3753|\n|         249|                3457|\n|          79|                3343|\n|         141|                3332|\n|         164|                3205|\n|         238|                2829|\n+------------+--------------------+\nonly showing top 20 rows\n"
     ]
    }
   ],
   "source": [
    "last_day_df.groupBy(\"PULocationID\").sum(\"passenger_count\").orderBy(\"sum(passenger_count)\", ascending=False).show()"
   ]
  },
  {
   "cell_type": "code",
   "execution_count": 0,
   "metadata": {
    "application/vnd.databricks.v1+cell": {
     "cellMetadata": {},
     "inputWidgets": {},
     "nuid": "680e5389-24a7-4fad-abbb-2005fa18d17e",
     "showTitle": false,
     "tableResultSettingsMap": {},
     "title": ""
    }
   },
   "outputs": [],
   "source": []
  }
 ],
 "metadata": {
  "application/vnd.databricks.v1+notebook": {
   "computePreferences": null,
   "dashboards": [],
   "environmentMetadata": {
    "base_environment": "",
    "environment_version": "2"
   },
   "inputWidgetPreferences": null,
   "language": "python",
   "notebookMetadata": {
    "pythonIndentUnit": 4
   },
   "notebookName": "NYC Taxi Data Analysis",
   "widgets": {}
  },
  "language_info": {
   "name": "python"
  }
 },
 "nbformat": 4,
 "nbformat_minor": 0
}